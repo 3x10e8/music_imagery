{
 "cells": [
  {
   "cell_type": "code",
   "execution_count": 10,
   "metadata": {},
   "outputs": [],
   "source": [
    "# Import packages\n",
    "import numpy as np\n",
    "import pandas as pd\n",
    "import matplotlib as mp\n",
    "from scipy.stats import ttest_ind\n",
    "from statsmodels.stats.multitest import multipletests\n",
    "\n",
    "# Import csv of blinks as a dataframe\n",
    "\n",
    "df = pd.read_csv('StatBlinks_df_all.csv')"
   ]
  },
  {
   "cell_type": "code",
   "execution_count": 30,
   "metadata": {},
   "outputs": [],
   "source": [
    "# Defining functions\n",
    "\n",
    "\n",
    "# Collects the blinks from the dataframe for the subjectID input as an int\n",
    "# Returns a dictionary with the key as the condition and chorus with the\n",
    "# val as a list of blinks for the 11 trials\n",
    "\n",
    "def collectBlinks(subjectID):\n",
    "\n",
    "    subject = df.loc[df['subjectID'] == subjectID]\n",
    "\n",
    "    # Grouping by condition to collect lists of blinks\n",
    "    grouped = subject.groupby('description')\n",
    "    set = {}\n",
    "\n",
    "    for name, group in grouped:\n",
    "        a = (group['blinks'].to_list())\n",
    "        set[name] = a\n",
    "    \n",
    "    return set\n",
    "\n",
    "\n",
    "# Runs statistical analysis with student's t. Compares each condition to all others.\n",
    "# Creates an array for storing the pval results.\n",
    "# (dictionary input, alpha level int, boneferroni boolean)\n",
    "\n",
    "def StatArray(set, alpha):\n",
    "\n",
    "    ArrayStat = np.empty([8,8], dtype = float)\n",
    "\n",
    "    # Conducting two-tailed t test as the null hypothesis is that there is difference between the distributions\n",
    "    # Each distribution will be compared against all other distributions, including itself\n",
    "    rowi = 0\n",
    "    for row in set:\n",
    "\n",
    "        coli = 0\n",
    "        pList = []\n",
    "        for col in set:\n",
    "\n",
    "            t_statistic, p_value = ttest_ind(set[row], set[col])\n",
    "            # ArrayStat[rowi, coli] = p_value\n",
    "            pList.append(p_value)\n",
    "            \n",
    "            coli += 1\n",
    "\n",
    "        p_corrected = multipletests(pList,alpha,method='bonferroni')\n",
    "        # print(p_corrected[1])\n",
    "        # print(pList)\n",
    "        ArrayStat[rowi] = p_corrected[1]\n",
    "        rowi += 1\n",
    "\n",
    "    return ArrayStat\n",
    "    \n",
    "\n",
    "\n",
    "def SaveStatArray(StatArray, name):\n",
    "    # Converting StatArray to a dataframe for easy analysis\n",
    "    df = pd.DataFrame(StatArray)\n",
    "\n",
    "    # Rename columns and rows for easy analysis\n",
    "    df.rename(columns={0: 'Imagerychor019', 1: 'Imagerychor038', 2: 'Imagerychor096', 3: 'Imagerychor101',\n",
    "                4: 'Listeningchor019', 5: 'Listeningchor038', 6: 'Listeningchor096', 7: 'Listeningchor101'}, inplace=True)\n",
    "\n",
    "    df.rename(columns={0: 'Imagerychor019', 1: 'Imagerychor038', 2: 'Imagerychor096', 3: 'Imagerychor101',\n",
    "                4: 'Listeningchor019', 5: 'Listeningchor038', 6: 'Listeningchor096', 7: 'Listeningchor101'}, inplace=True)\n",
    "\n",
    "    # Save to Excel\n",
    "    df.to_excel('StatBlinks' + name + '.xlsx', index=False)\n"
   ]
  },
  {
   "cell_type": "code",
   "execution_count": 8,
   "metadata": {},
   "outputs": [
    {
     "name": "stdout",
     "output_type": "stream",
     "text": [
      "{'Imagery/chor-019': [3, 5, 3, 5, 5, 3, 3, 4, 6, 0, 4], 'Imagery/chor-038': [5, 13, 7, 8, 6, 10, 10, 5, 9, 8, 12], 'Imagery/chor-096': [3, 4, 6, 6, 6, 5, 7, 7, 9, 7, 9], 'Imagery/chor-101': [4, 7, 5, 5, 7, 5, 5, 4, 8, 6, 7], 'Listening/chor-019': [3, 6, 7, 5, 6, 3, 6, 4, 11, 9, 7], 'Listening/chor-038': [8, 6, 4, 10, 5, 8, 6, 7, 10, 6, 13], 'Listening/chor-096': [9, 4, 8, 5, 7, 5, 7, 5, 11, 13, 8], 'Listening/chor-101': [4, 5, 9, 6, 9, 10, 7, 7, 7, 6, 8]}\n"
     ]
    }
   ],
   "source": [
    "a = collectBlinks(1)\n",
    "\n",
    "print(a)"
   ]
  },
  {
   "cell_type": "code",
   "execution_count": 31,
   "metadata": {},
   "outputs": [
    {
     "name": "stdout",
     "output_type": "stream",
     "text": [
      "[[1.00000000e+00 5.05677049e-04 2.09107219e-02 4.03758026e-02\n",
      "  1.13298384e-01 4.34611546e-03 7.92506007e-03 1.42174600e-03]\n",
      " [5.05677049e-04 1.00000000e+00 2.96414471e-01 5.24839547e-02\n",
      "  3.32859868e-01 1.00000000e+00 1.00000000e+00 1.00000000e+00]\n",
      " [2.09107219e-02 2.96414471e-01 1.00000000e+00 1.00000000e+00\n",
      "  1.00000000e+00 1.00000000e+00 1.00000000e+00 1.00000000e+00]\n",
      " [4.03758026e-02 5.24839547e-02 1.00000000e+00 1.00000000e+00\n",
      "  1.00000000e+00 4.33478192e-01 6.21814572e-01 4.73298246e-01]\n",
      " [1.13298384e-01 3.32859868e-01 1.00000000e+00 1.00000000e+00\n",
      "  1.00000000e+00 1.00000000e+00 1.00000000e+00 1.00000000e+00]\n",
      " [4.34611546e-03 1.00000000e+00 1.00000000e+00 4.33478192e-01\n",
      "  1.00000000e+00 1.00000000e+00 1.00000000e+00 1.00000000e+00]\n",
      " [7.92506007e-03 1.00000000e+00 1.00000000e+00 6.21814572e-01\n",
      "  1.00000000e+00 1.00000000e+00 1.00000000e+00 1.00000000e+00]\n",
      " [1.42174600e-03 1.00000000e+00 1.00000000e+00 4.73298246e-01\n",
      "  1.00000000e+00 1.00000000e+00 1.00000000e+00 1.00000000e+00]]\n"
     ]
    }
   ],
   "source": [
    "b = StatArray(a, 0.05)\n",
    "\n",
    "print(b)"
   ]
  },
  {
   "cell_type": "code",
   "execution_count": 85,
   "metadata": {},
   "outputs": [],
   "source": [
    "SaveStatArray(b, 'subject1')"
   ]
  }
 ],
 "metadata": {
  "kernelspec": {
   "display_name": "base",
   "language": "python",
   "name": "python3"
  },
  "language_info": {
   "codemirror_mode": {
    "name": "ipython",
    "version": 3
   },
   "file_extension": ".py",
   "mimetype": "text/x-python",
   "name": "python",
   "nbconvert_exporter": "python",
   "pygments_lexer": "ipython3",
   "version": "3.11.3"
  }
 },
 "nbformat": 4,
 "nbformat_minor": 2
}
