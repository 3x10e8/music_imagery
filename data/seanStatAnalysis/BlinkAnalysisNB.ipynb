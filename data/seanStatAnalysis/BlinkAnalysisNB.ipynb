{
 "cells": [
  {
   "cell_type": "code",
   "execution_count": 66,
   "metadata": {},
   "outputs": [],
   "source": [
    "# Import packages\n",
    "import numpy as np\n",
    "import pandas as pd\n",
    "import matplotlib as mp\n",
    "from scipy.stats import ttest_ind\n",
    "\n",
    "# Import csv of blinks as a dataframe\n",
    "\n",
    "df = pd.read_csv('StatBlinks_df_all.csv')"
   ]
  },
  {
   "cell_type": "code",
   "execution_count": 84,
   "metadata": {},
   "outputs": [],
   "source": [
    "# Defining functions\n",
    "\n",
    "\n",
    "# Collects the blinks from the dataframe for the subjectID input as an int\n",
    "# Returns a dictionary with the key as the condition and chorus with the\n",
    "# val as a list of blinks for the 11 trials\n",
    "\n",
    "def collectBlinks(subjectID):\n",
    "\n",
    "    subject = df.loc[df['subjectID'] == subjectID]\n",
    "\n",
    "    # Grouping by condition to collect lists of blinks\n",
    "    grouped = subject.groupby('description')\n",
    "    set = {}\n",
    "\n",
    "    for name, group in grouped:\n",
    "        a = (group['blinks'].to_list())\n",
    "        set[name] = a\n",
    "    \n",
    "    return set\n",
    "\n",
    "\n",
    "# Runs statistical analysis with student's t. Compares each condition to all others.\n",
    "# Creates an array for storing the pval results.\n",
    "\n",
    "def StatArray(set):\n",
    "\n",
    "    ArrayStat = np.empty([8,8], dtype = float)\n",
    "\n",
    "    # Conducting two-tailed t test as the null hypothesis is that there is difference between the distributions\n",
    "    # Each distribution will be compared against all other distributions, including itself\n",
    "    rowi = 0\n",
    "    for row in set:\n",
    "\n",
    "        coli = 0\n",
    "        for col in set:\n",
    "\n",
    "            t_statistic, p_value = ttest_ind(set[row], set[col])\n",
    "            ArrayStat[rowi, coli] = p_value\n",
    "            coli += 1\n",
    "\n",
    "        rowi += 1\n",
    "    return ArrayStat\n",
    "    \n",
    "\n",
    "\n",
    "def SaveStatArray(StatArray, name):\n",
    "    # Converting StatArray to a dataframe for easy analysis\n",
    "    df = pd.DataFrame(StatArray)\n",
    "\n",
    "    # Rename columns and rows for easy analysis\n",
    "    df.rename(columns={0: 'Imagerychor019', 1: 'Imagerychor038', 2: 'Imagerychor096', 3: 'Imagerychor101',\n",
    "                4: 'Listeningchor019', 5: 'Listeningchor038', 6: 'Listeningchor096', 7: 'Listeningchor101'}, inplace=True)\n",
    "\n",
    "    df.rename(columns={0: 'Imagerychor019', 1: 'Imagerychor038', 2: 'Imagerychor096', 3: 'Imagerychor101',\n",
    "                4: 'Listeningchor019', 5: 'Listeningchor038', 6: 'Listeningchor096', 7: 'Listeningchor101'}, inplace=True)\n",
    "\n",
    "    # Save to Excel\n",
    "    df.to_excel('StatBlinks' + name + '.xlsx', index=False)\n"
   ]
  },
  {
   "cell_type": "code",
   "execution_count": 81,
   "metadata": {},
   "outputs": [
    {
     "name": "stdout",
     "output_type": "stream",
     "text": [
      "{'Imagery/chor-019': [3, 5, 3, 5, 5, 3, 3, 4, 6, 0, 4], 'Imagery/chor-038': [5, 13, 7, 8, 6, 10, 10, 5, 9, 8, 12], 'Imagery/chor-096': [3, 4, 6, 6, 6, 5, 7, 7, 9, 7, 9], 'Imagery/chor-101': [4, 7, 5, 5, 7, 5, 5, 4, 8, 6, 7], 'Listening/chor-019': [3, 6, 7, 5, 6, 3, 6, 4, 11, 9, 7], 'Listening/chor-038': [8, 6, 4, 10, 5, 8, 6, 7, 10, 6, 13], 'Listening/chor-096': [9, 4, 8, 5, 7, 5, 7, 5, 11, 13, 8], 'Listening/chor-101': [4, 5, 9, 6, 9, 10, 7, 7, 7, 6, 8]}\n"
     ]
    }
   ],
   "source": [
    "a = collectBlinks(1)\n",
    "\n",
    "print(a)"
   ]
  },
  {
   "cell_type": "code",
   "execution_count": 82,
   "metadata": {},
   "outputs": [
    {
     "name": "stdout",
     "output_type": "stream",
     "text": [
      "[[1.00000000e+00 6.32096311e-05 2.61384024e-03 5.04697532e-03\n",
      "  1.41622980e-02 5.43264432e-04 9.90632509e-04 1.77718251e-04]\n",
      " [6.32096311e-05 1.00000000e+00 3.70518089e-02 6.56049433e-03\n",
      "  4.16074835e-02 4.28936013e-01 3.97988187e-01 1.75399325e-01]\n",
      " [2.61384024e-03 3.70518089e-02 1.00000000e+00 4.38469797e-01\n",
      "  8.45319818e-01 2.03110199e-01 2.53027490e-01 3.07298414e-01]\n",
      " [5.04697532e-03 6.56049433e-03 4.38469797e-01 1.00000000e+00\n",
      "  6.68668380e-01 5.41847740e-02 7.77268215e-02 5.91622808e-02]\n",
      " [1.41622980e-02 4.16074835e-02 8.45319818e-01 6.68668380e-01\n",
      "  1.00000000e+00 1.91997107e-01 2.33694719e-01 2.86725050e-01]\n",
      " [5.43264432e-04 4.28936013e-01 2.03110199e-01 5.41847740e-02\n",
      "  1.91997107e-01 1.00000000e+00 9.37772997e-01 6.41420057e-01]\n",
      " [9.90632509e-04 3.97988187e-01 2.53027490e-01 7.77268215e-02\n",
      "  2.33694719e-01 9.37772997e-01 1.00000000e+00 7.19502140e-01]\n",
      " [1.77718251e-04 1.75399325e-01 3.07298414e-01 5.91622808e-02\n",
      "  2.86725050e-01 6.41420057e-01 7.19502140e-01 1.00000000e+00]]\n"
     ]
    }
   ],
   "source": [
    "b = StatArray(a)\n",
    "\n",
    "print(b)"
   ]
  },
  {
   "cell_type": "code",
   "execution_count": 85,
   "metadata": {},
   "outputs": [],
   "source": [
    "SaveStatArray(b, 'subject1')"
   ]
  }
 ],
 "metadata": {
  "kernelspec": {
   "display_name": "base",
   "language": "python",
   "name": "python3"
  },
  "language_info": {
   "codemirror_mode": {
    "name": "ipython",
    "version": 3
   },
   "file_extension": ".py",
   "mimetype": "text/x-python",
   "name": "python",
   "nbconvert_exporter": "python",
   "pygments_lexer": "ipython3",
   "version": "3.11.3"
  }
 },
 "nbformat": 4,
 "nbformat_minor": 2
}
