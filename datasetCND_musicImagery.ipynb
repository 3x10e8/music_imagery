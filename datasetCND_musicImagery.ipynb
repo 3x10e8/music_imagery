{
 "cells": [
  {
   "cell_type": "markdown",
   "id": "af928529",
   "metadata": {},
   "source": [
    "# Download Music Imagery Dataset\n",
    "The imagery dataset can be downloaded from dryad or from the CNSP workshop's resources:\n",
    "https://cnspworkshop.net/resources.html\n",
    "\n",
    "The dataset is the same, but the formatting between dryad and CNSP is different.\n",
    "The CNSP dataset is formatted as continuous-event Neural Data data format (and should include a channel map?)"
   ]
  },
  {
   "cell_type": "code",
   "execution_count": 5,
   "id": "d166f7f0",
   "metadata": {
    "scrolled": false
   },
   "outputs": [],
   "source": [
    "if 0: # set to 1 to attempt downloading the dataset from CNSP server (may not work on-campus)\n",
    "    !wget https://www.data.cnspworkshop.net/data/datasetCND_musicImagery.zip -O data/datasetCND_musicImagery.zip"
   ]
  },
  {
   "cell_type": "markdown",
   "id": "694236dd",
   "metadata": {},
   "source": [
    "If the above link is unreachable (possibly on school network), grab a clone hosted on google drive:\n",
    "\n",
    "(code from https://linux.tips/tutorials/download-large-google-drive-files-with-wget-in-terminal)"
   ]
  },
  {
   "cell_type": "code",
   "execution_count": 6,
   "id": "ea02a9c2",
   "metadata": {
    "scrolled": true
   },
   "outputs": [],
   "source": [
    "if 0: # set to 1 to attempt downloading the dataset from google drive clone\n",
    "    !wget --load-cookies /tmp/cookies.txt \"https://docs.google.com/uc?export=download&confirm=$(wget --quiet --save-cookies /tmp/cookies.txt --keep-session-cookies --no-check-certificate 'https://docs.google.com/uc?export=download&id=1PgsWiJ3kQsjvV2TcvM2gC_uWI_o6ecp4' -O- | sed -rn 's/.*confirm=([0-9A-Za-z_]+).*/\\1\\n/p')&id=1PgsWiJ3kQsjvV2TcvM2gC_uWI_o6ecp4\" -O datasetCND_musicImagery.zip && rm -rf /tmp/cookies.txt"
   ]
  },
  {
   "cell_type": "markdown",
   "id": "9cdec9bf",
   "metadata": {},
   "source": [
    "This saves the file to the repo's root directory.\n",
    "We could make a data folder and unzip the data there:"
   ]
  },
  {
   "cell_type": "code",
   "execution_count": 8,
   "id": "aed32994",
   "metadata": {},
   "outputs": [
    {
     "name": "stdout",
     "output_type": "stream",
     "text": [
      "mkdir: cannot create directory ‘data’: File exists\n",
      "mv: cannot stat 'datasetCND_musicImagery.zip': No such file or directory\n"
     ]
    }
   ],
   "source": [
    "if 0:\n",
    "    !mkdir data\n",
    "    !mv datasetCND_musicImagery.zip data/\n",
    "    !unzip data/datasetCND_musicImagery.zip -d data"
   ]
  },
  {
   "cell_type": "markdown",
   "id": "b3a865b5",
   "metadata": {},
   "source": [
    "Make a list of all the files in the dataset:"
   ]
  },
  {
   "cell_type": "code",
   "execution_count": 13,
   "id": "ba2d7209",
   "metadata": {},
   "outputs": [
    {
     "name": "stdout",
     "output_type": "stream",
     "text": [
      "data/musicImagery/\n",
      "data/musicImagery/dataCND\n",
      "data/musicImagery/dataCND/dataSub18.mat\n",
      "data/musicImagery/dataCND/dataSub11.mat\n",
      "data/musicImagery/dataCND/dataSub16.mat\n",
      "data/musicImagery/dataCND/dataSub9.mat\n",
      "data/musicImagery/dataCND/dataSub7.mat\n",
      "data/musicImagery/dataCND/dataSub6.mat\n",
      "data/musicImagery/dataCND/dataSub1.mat\n",
      "data/musicImagery/dataCND/dataSub8.mat\n",
      "data/musicImagery/dataCND/dataSub17.mat\n",
      "data/musicImagery/dataCND/dataSub10.mat\n",
      "data/musicImagery/dataCND/dataSub19.mat\n",
      "data/musicImagery/dataCND/dataSub2.mat\n",
      "data/musicImagery/dataCND/dataSub5.mat\n",
      "data/musicImagery/dataCND/dataSub21.mat\n",
      "data/musicImagery/dataCND/dataSub13.mat\n",
      "data/musicImagery/dataCND/dataSub14.mat\n",
      "data/musicImagery/dataCND/dataSub15.mat\n",
      "data/musicImagery/dataCND/dataSub12.mat\n",
      "data/musicImagery/dataCND/dataStim.mat\n",
      "data/musicImagery/dataCND/dataSub20.mat\n",
      "data/musicImagery/dataCND/dataSub4.mat\n",
      "data/musicImagery/dataCND/dataSub3.mat\n",
      "data/musicImagery/LICENSE\n",
      "data/musicImagery/readme.txt\n",
      "data/musicImagery/stimuli\n",
      "data/musicImagery/stimuli/midi\n",
      "data/musicImagery/stimuli/midi/chor-019.mid\n",
      "data/musicImagery/stimuli/midi/chor-101.mid\n",
      "data/musicImagery/stimuli/midi/chor-096.mid\n",
      "data/musicImagery/stimuli/midi/chor-038.mid\n",
      "data/musicImagery/stimuli/midi/Score.pdf\n",
      "data/musicImagery/stimuli/audio\n",
      "data/musicImagery/stimuli/audio/chor-019.wav\n",
      "data/musicImagery/stimuli/audio/chor-101.wav\n",
      "data/musicImagery/stimuli/audio/chor-096.wav\n",
      "data/musicImagery/stimuli/audio/chor-038.wav\n"
     ]
    }
   ],
   "source": [
    "from glob import glob\n",
    "datafiles = glob('data/musicImagery/**', recursive=True)\n",
    "for filename in datafiles:\n",
    "    print(filename)"
   ]
  },
  {
   "cell_type": "markdown",
   "id": "9935dda2",
   "metadata": {},
   "source": [
    "# Import the input stimulus"
   ]
  },
  {
   "cell_type": "code",
   "execution_count": 14,
   "id": "4972ac0e",
   "metadata": {},
   "outputs": [],
   "source": [
    "from scipy.io import loadmat\n",
    "# https://docs.scipy.org/doc/scipy/reference/generated/scipy.io.loadmat.html\n",
    "\n",
    "import matplotlib.pyplot as plt\n",
    "import numpy as np"
   ]
  },
  {
   "cell_type": "code",
   "execution_count": 68,
   "id": "259a865a",
   "metadata": {},
   "outputs": [
    {
     "name": "stdout",
     "output_type": "stream",
     "text": [
      "dict_keys(['stimIdxs', 'condIdxs', 'condNames', 'data', 'names', 'fs'])\n"
     ]
    }
   ],
   "source": [
    "stim_mat = loadmat(r\"data/musicImagery/dataCND/dataStim.mat\", \n",
    "                   simplify_cells = True, # trying this as the struct here is complicated\n",
    "                   squeeze_me = True\n",
    "                  ) \n",
    "stim = stim_mat['stim']\n",
    "print(stim.keys())\n",
    "# How do we read stim? Its an empty-shaped array..."
   ]
  },
  {
   "cell_type": "code",
   "execution_count": 70,
   "id": "562a0753",
   "metadata": {},
   "outputs": [
    {
     "name": "stdout",
     "output_type": "stream",
     "text": [
      "stimIdxs shape: (88,)\n"
     ]
    }
   ],
   "source": [
    "stimIdxs = stim['stimIdxs']\n",
    "print(f'stimIdxs shape: {stimIdxs.shape}')\n",
    "\n",
    "condIdxs = stim['condIdxs']\n",
    "print(f'condIdxs shape: {condIdxs.shape}')\n",
    "\n",
    "condNames = stim['condNames']\n",
    "print(f'condNames shape: {condNames.shape}')\n",
    "\n",
    "data = stim['data']\n",
    "print(f'data shape: {data.shape}')\n",
    "\n",
    "names = stim['names']\n",
    "print(f'names shape: {names.shape}')\n",
    "\n",
    "fs = stim['fs']\n",
    "print(f'fs shape: {stimIdxs.shape}')\n"
   ]
  },
  {
   "cell_type": "code",
   "execution_count": 64,
   "id": "6eaba8aa",
   "metadata": {},
   "outputs": [
    {
     "name": "stdout",
     "output_type": "stream",
     "text": [
      "[[1 1 1 1 1 1 1 1 1 1 1 2 2 2 2 2 2 2 2 2 2 2 3 3 3 3 3 3 3 3 3 3 3 4 4 4\n",
      "  4 4 4 4 4 4 4 4 1 1 1 1 1 1 1 1 1 1 1 2 2 2 2 2 2 2 2 2 2 2 3 3 3 3 3 3\n",
      "  3 3 3 3 3 4 4 4 4 4 4 4 4 4 4 4]]\n"
     ]
    }
   ],
   "source": [
    "stimIdxs = stim['stimIdxs']\n",
    "print(stimIdxs)"
   ]
  },
  {
   "cell_type": "code",
   "execution_count": null,
   "id": "6fcc1fa8",
   "metadata": {},
   "outputs": [],
   "source": []
  }
 ],
 "metadata": {
  "kernelspec": {
   "display_name": "Python 3 (clean)",
   "language": "python",
   "name": "python3_clean"
  },
  "language_info": {
   "codemirror_mode": {
    "name": "ipython",
    "version": 3
   },
   "file_extension": ".py",
   "mimetype": "text/x-python",
   "name": "python",
   "nbconvert_exporter": "python",
   "pygments_lexer": "ipython3",
   "version": "3.9.5"
  }
 },
 "nbformat": 4,
 "nbformat_minor": 5
}
