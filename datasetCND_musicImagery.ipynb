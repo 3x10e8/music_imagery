{
 "cells": [
  {
   "cell_type": "markdown",
   "id": "af928529",
   "metadata": {},
   "source": [
    "# Download Music Imagery Dataset\n",
    "The imagery dataset can be downloaded from dryad or from the CNSP workshop's resources:\n",
    "https://cnspworkshop.net/resources.html\n",
    "\n",
    "The dataset is the same, but the formatting between dryad and CNSP is different.\n",
    "The CNSP dataset is formatted as continuous-event Neural Data data format (and should include a channel map?)"
   ]
  },
  {
   "cell_type": "code",
   "execution_count": 5,
   "id": "d166f7f0",
   "metadata": {
    "scrolled": false
   },
   "outputs": [],
   "source": [
    "if 0: # set to 1 to attempt downloading the dataset from CNSP server (may not work on-campus)\n",
    "    !wget https://www.data.cnspworkshop.net/data/datasetCND_musicImagery.zip -O data/datasetCND_musicImagery.zip"
   ]
  },
  {
   "cell_type": "markdown",
   "id": "694236dd",
   "metadata": {},
   "source": [
    "If the above link is unreachable (possibly on school network), grab a clone hosted on google drive:\n",
    "\n",
    "(code from https://linux.tips/tutorials/download-large-google-drive-files-with-wget-in-terminal)"
   ]
  },
  {
   "cell_type": "code",
   "execution_count": 6,
   "id": "ea02a9c2",
   "metadata": {
    "scrolled": true
   },
   "outputs": [],
   "source": [
    "if 0: # set to 1 to attempt downloading the dataset from google drive clone\n",
    "    !wget --load-cookies /tmp/cookies.txt \"https://docs.google.com/uc?export=download&confirm=$(wget --quiet --save-cookies /tmp/cookies.txt --keep-session-cookies --no-check-certificate 'https://docs.google.com/uc?export=download&id=1PgsWiJ3kQsjvV2TcvM2gC_uWI_o6ecp4' -O- | sed -rn 's/.*confirm=([0-9A-Za-z_]+).*/\\1\\n/p')&id=1PgsWiJ3kQsjvV2TcvM2gC_uWI_o6ecp4\" -O datasetCND_musicImagery.zip && rm -rf /tmp/cookies.txt"
   ]
  },
  {
   "cell_type": "markdown",
   "id": "9cdec9bf",
   "metadata": {},
   "source": [
    "This saves the file to the repo's root directory.\n",
    "We could make a data folder and unzip the data there:"
   ]
  },
  {
   "cell_type": "code",
   "execution_count": 8,
   "id": "aed32994",
   "metadata": {},
   "outputs": [
    {
     "name": "stdout",
     "output_type": "stream",
     "text": [
      "mkdir: cannot create directory ‘data’: File exists\n",
      "mv: cannot stat 'datasetCND_musicImagery.zip': No such file or directory\n"
     ]
    }
   ],
   "source": [
    "if 0:\n",
    "    !mkdir data\n",
    "    !mv datasetCND_musicImagery.zip data/\n",
    "    !unzip data/datasetCND_musicImagery.zip -d data"
   ]
  },
  {
   "cell_type": "markdown",
   "id": "b3a865b5",
   "metadata": {},
   "source": [
    "Make a list of all the files in the dataset:"
   ]
  },
  {
   "cell_type": "code",
   "execution_count": 13,
   "id": "ba2d7209",
   "metadata": {},
   "outputs": [
    {
     "name": "stdout",
     "output_type": "stream",
     "text": [
      "data/musicImagery/\n",
      "data/musicImagery/dataCND\n",
      "data/musicImagery/dataCND/dataSub18.mat\n",
      "data/musicImagery/dataCND/dataSub11.mat\n",
      "data/musicImagery/dataCND/dataSub16.mat\n",
      "data/musicImagery/dataCND/dataSub9.mat\n",
      "data/musicImagery/dataCND/dataSub7.mat\n",
      "data/musicImagery/dataCND/dataSub6.mat\n",
      "data/musicImagery/dataCND/dataSub1.mat\n",
      "data/musicImagery/dataCND/dataSub8.mat\n",
      "data/musicImagery/dataCND/dataSub17.mat\n",
      "data/musicImagery/dataCND/dataSub10.mat\n",
      "data/musicImagery/dataCND/dataSub19.mat\n",
      "data/musicImagery/dataCND/dataSub2.mat\n",
      "data/musicImagery/dataCND/dataSub5.mat\n",
      "data/musicImagery/dataCND/dataSub21.mat\n",
      "data/musicImagery/dataCND/dataSub13.mat\n",
      "data/musicImagery/dataCND/dataSub14.mat\n",
      "data/musicImagery/dataCND/dataSub15.mat\n",
      "data/musicImagery/dataCND/dataSub12.mat\n",
      "data/musicImagery/dataCND/dataStim.mat\n",
      "data/musicImagery/dataCND/dataSub20.mat\n",
      "data/musicImagery/dataCND/dataSub4.mat\n",
      "data/musicImagery/dataCND/dataSub3.mat\n",
      "data/musicImagery/LICENSE\n",
      "data/musicImagery/readme.txt\n",
      "data/musicImagery/stimuli\n",
      "data/musicImagery/stimuli/midi\n",
      "data/musicImagery/stimuli/midi/chor-019.mid\n",
      "data/musicImagery/stimuli/midi/chor-101.mid\n",
      "data/musicImagery/stimuli/midi/chor-096.mid\n",
      "data/musicImagery/stimuli/midi/chor-038.mid\n",
      "data/musicImagery/stimuli/midi/Score.pdf\n",
      "data/musicImagery/stimuli/audio\n",
      "data/musicImagery/stimuli/audio/chor-019.wav\n",
      "data/musicImagery/stimuli/audio/chor-101.wav\n",
      "data/musicImagery/stimuli/audio/chor-096.wav\n",
      "data/musicImagery/stimuli/audio/chor-038.wav\n"
     ]
    }
   ],
   "source": [
    "from glob import glob\n",
    "datafiles = glob('data/musicImagery/**', recursive=True)\n",
    "for filename in datafiles:\n",
    "    print(filename)"
   ]
  },
  {
   "cell_type": "markdown",
   "id": "1bd90a1c",
   "metadata": {},
   "source": [
    "# Import the input stimulus"
   ]
  },
  {
   "cell_type": "code",
   "execution_count": 14,
   "id": "4972ac0e",
   "metadata": {},
   "outputs": [],
   "source": [
    "from scipy.io import loadmat\n",
    "# https://docs.scipy.org/doc/scipy/reference/generated/scipy.io.loadmat.html\n",
    "\n",
    "import matplotlib.pyplot as plt\n",
    "import numpy as np"
   ]
  },
  {
   "cell_type": "code",
   "execution_count": 68,
   "id": "259a865a",
   "metadata": {},
   "outputs": [
    {
     "name": "stdout",
     "output_type": "stream",
     "text": [
      "dict_keys(['stimIdxs', 'condIdxs', 'condNames', 'data', 'names', 'fs'])\n"
     ]
    }
   ],
   "source": [
    "stim_mat = loadmat(r\"data/musicImagery/dataCND/dataStim.mat\", \n",
    "                   simplify_cells = True, # trying this as the struct here is complicated\n",
    "                   squeeze_me = True\n",
    "                  ) \n",
    "stim = stim_mat['stim']\n",
    "print(stim.keys())\n",
    "# How do we read stim? Its an empty-shaped array..."
   ]
  },
  {
   "cell_type": "markdown",
   "id": "515b384f",
   "metadata": {},
   "source": [
    "## Print shapes of all stim array entries"
   ]
  },
  {
   "cell_type": "code",
   "execution_count": 72,
   "id": "562a0753",
   "metadata": {},
   "outputs": [
    {
     "name": "stdout",
     "output_type": "stream",
     "text": [
      "stimIdxs shape: (88,)\n",
      "condIdxs shape: (88,)\n",
      "condNames shape: (2,)\n",
      "data shape: (2, 88)\n",
      "names shape: (2,)\n",
      "fs: 64\n"
     ]
    }
   ],
   "source": [
    "stimIdxs = stim['stimIdxs']\n",
    "print(f'stimIdxs shape: {stimIdxs.shape}')\n",
    "\n",
    "condIdxs = stim['condIdxs']\n",
    "print(f'condIdxs shape: {condIdxs.shape}')\n",
    "\n",
    "condNames = stim['condNames']\n",
    "print(f'condNames shape: {condNames.shape}')\n",
    "\n",
    "data = stim['data']\n",
    "print(f'data shape: {data.shape}')\n",
    "\n",
    "names = stim['names']\n",
    "print(f'names shape: {names.shape}')\n",
    "\n",
    "fs = stim['fs']\n",
    "print(f'fs: {fs}')"
   ]
  },
  {
   "cell_type": "markdown",
   "id": "2c7c4f1b",
   "metadata": {},
   "source": [
    "## Print stim entries themselves"
   ]
  },
  {
   "cell_type": "code",
   "execution_count": 136,
   "id": "b9781ffc",
   "metadata": {},
   "outputs": [
    {
     "name": "stdout",
     "output_type": "stream",
     "text": [
      "[1 1 1 1 1 1 1 1 1 1 1 2 2 2 2 2 2 2 2 2 2 2 3 3 3 3 3 3 3 3 3 3 3 4 4 4 4\n",
      " 4 4 4 4 4 4 4 1 1 1 1 1 1 1 1 1 1 1 2 2 2 2 2 2 2 2 2 2 2 3 3 3 3 3 3 3 3\n",
      " 3 3 3 4 4 4 4 4 4 4 4 4 4 4]\n",
      "[1 1 1 1 1 1 1 1 1 1 1 1 1 1 1 1 1 1 1 1 1 1 1 1 1 1 1 1 1 1 1 1 1 1 1 1 1\n",
      " 1 1 1 1 1 1 1 2 2 2 2 2 2 2 2 2 2 2 2 2 2 2 2 2 2 2 2 2 2 2 2 2 2 2 2 2 2\n",
      " 2 2 2 2 2 2 2 2 2 2 2 2 2 2]\n",
      "['Listening' 'Imagery']\n",
      "['Acoustic Envelope' 'Expectation Vector']\n"
     ]
    }
   ],
   "source": [
    "print(stimIdxs)\n",
    "print(condIdxs)\n",
    "print(condNames)\n",
    "print(names)"
   ]
  },
  {
   "cell_type": "markdown",
   "id": "0e573fb1",
   "metadata": {},
   "source": [
    "## Identify unique conditions (2) and songs (4)"
   ]
  },
  {
   "cell_type": "code",
   "execution_count": 100,
   "id": "56bad135",
   "metadata": {},
   "outputs": [
    {
     "name": "stdout",
     "output_type": "stream",
     "text": [
      "Unique Conditions: [1 2]\n",
      "Unique Songs: [1 2 3 4]\n"
     ]
    }
   ],
   "source": [
    "condList = np.unique(condIdxs)\n",
    "print(f'Unique Conditions: {condList}')\n",
    "\n",
    "songList = np.unique(stimIdxs)\n",
    "print(f'Unique Songs: {songList}')"
   ]
  },
  {
   "cell_type": "markdown",
   "id": "8c01bccf",
   "metadata": {},
   "source": [
    "## Collect data idxs by condition and song"
   ]
  },
  {
   "cell_type": "code",
   "execution_count": 112,
   "id": "f90fe86f",
   "metadata": {},
   "outputs": [
    {
     "name": "stdout",
     "output_type": "stream",
     "text": [
      "Listening: Song 1\n",
      "[ 0  1  2  3  4  5  6  7  8  9 10]\n",
      "Listening: Song 2\n",
      "[11 12 13 14 15 16 17 18 19 20 21]\n",
      "Listening: Song 3\n",
      "[22 23 24 25 26 27 28 29 30 31 32]\n",
      "Listening: Song 4\n",
      "[33 34 35 36 37 38 39 40 41 42 43]\n",
      "Imagery: Song 1\n",
      "[44 45 46 47 48 49 50 51 52 53 54]\n",
      "Imagery: Song 2\n",
      "[55 56 57 58 59 60 61 62 63 64 65]\n",
      "Imagery: Song 3\n",
      "[66 67 68 69 70 71 72 73 74 75 76]\n",
      "Imagery: Song 4\n",
      "[77 78 79 80 81 82 83 84 85 86 87]\n"
     ]
    }
   ],
   "source": [
    "idxs = {} # dict to store idxs for each condition and stim/song idx\n",
    "\n",
    "for cond in condList: # two conditions\n",
    "    condName = condNames[cond-1] # MATLAB indexes from 1...\n",
    "    idxs[condName] = {}\n",
    "    \n",
    "    for song in songList:\n",
    "        \n",
    "        print(f'{condNames[cond-1]}: Song {song}') \n",
    "        matched_ndx = np.where(\n",
    "            (stimIdxs == song) & (condIdxs == cond)\n",
    "            )[0]\n",
    "        print(matched_ndx)\n",
    "        \n",
    "        idxs[condName][song] = matched_ndx"
   ]
  },
  {
   "cell_type": "markdown",
   "id": "f77ffaaf",
   "metadata": {},
   "source": [
    "## Plot acustic envelope and expectations for one song"
   ]
  },
  {
   "cell_type": "code",
   "execution_count": 135,
   "id": "cf1a82e5",
   "metadata": {},
   "outputs": [
    {
     "data": {
      "image/png": "[encoded data removed]",
      "text/plain": [
       "<Figure size 432x288 with 2 Axes>"
      ]
     },
     "metadata": {
      "needs_background": "light"
     },
     "output_type": "display_data"
    }
   ],
   "source": [
    "cond = 'Listening'\n",
    "song = 1\n",
    "envs = data[0][idxs[cond][song]]\n",
    "exps = data[1][idxs[cond][song]]\n",
    "\n",
    "fig, ax_env = plt.subplots()\n",
    "ax_env.plot(envs[0])\n",
    "ax_env.set_ylabel('Acoustic Envelope')\n",
    "\n",
    "ax_exp = ax_env.twinx()\n",
    "ax_exp.plot(exps[0], 'r')\n",
    "ax_exp.tick_params(axis='y', colors='red')\n",
    "ax_exp.yaxis.label.set_color('r')\n",
    "ax_exp.set_ylabel('Expectation')\n",
    "\n",
    "plt.xlabel('Time [ms]')\n",
    "plt.title(f'{cond} Song: {song}')\n",
    "plt.show()"
   ]
  },
  {
   "cell_type": "code",
   "execution_count": null,
   "id": "e12f02cd",
   "metadata": {},
   "outputs": [],
   "source": []
  }
 ],
 "metadata": {
  "kernelspec": {
   "display_name": "Python 3 (clean)",
   "language": "python",
   "name": "python3_clean"
  },
  "language_info": {
   "codemirror_mode": {
    "name": "ipython",
    "version": 3
   },
   "file_extension": ".py",
   "mimetype": "text/x-python",
   "name": "python",
   "nbconvert_exporter": "python",
   "pygments_lexer": "ipython3",
   "version": "3.9.5"
  }
 },
 "nbformat": 4,
 "nbformat_minor": 5
}
